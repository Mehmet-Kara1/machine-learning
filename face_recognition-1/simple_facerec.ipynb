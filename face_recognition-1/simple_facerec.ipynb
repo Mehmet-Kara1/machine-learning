{
 "cells": [
  {
   "cell_type": "code",
   "execution_count": 1,
   "metadata": {},
   "outputs": [],
   "source": [
    "import face_recognition\n",
    "import cv2\n",
    "import os\n",
    "import glob\n",
    "import numpy as np\n",
    "\n",
    "class SimpleFacerec:\n",
    "    def __init__(self): # self = javadaki this , bu fonksiyon parametre alamamakta\n",
    "        self.known_face_encodings = [] # boş list tannımladık\n",
    "        self.known_face_names = []\n",
    "\n",
    "        # Resize frame for a faster speed\n",
    "        self.frame_resizing = 0.25\n",
    "\n",
    "    def load_encoding_images(self, images_path):\n",
    "        \"\"\"\n",
    "        Load encoding images from path\n",
    "        :param images_path:\n",
    "        :return:\n",
    "        \"\"\"\n",
    "        # Load Images\n",
    "        images_path = glob.glob(os.path.join(images_path, \"*.*\")) # images_path bir dizedir\n",
    "\n",
    "        print(\"{} encoding images found.\".format(len(images_path)))\n",
    "\n",
    "        # Store image encoding and names\n",
    "        for img_path in images_path:\n",
    "            img = cv2.imread(img_path)\n",
    "            rgb_img = cv2.cvtColor(img, cv2.COLOR_BGR2RGB)\n",
    "\n",
    "            # Get the filename only from the initial file path.\n",
    "            basename = os.path.basename(img_path)\n",
    "            (filename, ext) = os.path.splitext(basename)\n",
    "            # Get encoding\n",
    "            img_encoding = face_recognition.face_encodings(rgb_img)[0]\n",
    "\n",
    "            # Store file name and file encoding\n",
    "            self.known_face_encodings.append(img_encoding)\n",
    "            self.known_face_names.append(filename)\n",
    "        print(\"Encoding images loaded\")\n",
    "\n",
    "    def detect_known_faces(self, frame):\n",
    "        small_frame = cv2.resize(frame, (0, 0), fx=self.frame_resizing, fy=self.frame_resizing)\n",
    "        # Find all the faces and face encodings in the current frame of video\n",
    "        # Convert the image from BGR color (which OpenCV uses) to RGB color (which face_recognition uses)\n",
    "        rgb_small_frame = cv2.cvtColor(small_frame, cv2.COLOR_BGR2RGB)\n",
    "        face_locations = face_recognition.face_locations(rgb_small_frame)\n",
    "        face_encodings = face_recognition.face_encodings(rgb_small_frame, face_locations)\n",
    "\n",
    "        face_names = []\n",
    "        for face_encoding in face_encodings:\n",
    "            # See if the face is a match for the known face(s)\n",
    "            matches = face_recognition.compare_faces(self.known_face_encodings, face_encoding)\n",
    "            name = \"Unknown\"\n",
    "\n",
    "            # # If a match was found in known_face_encodings, just use the first one.\n",
    "            # if True in matches:\n",
    "            #     first_match_index = matches.index(True)\n",
    "            #     name = known_face_names[first_match_index]\n",
    "\n",
    "            # Or instead, use the known face with the smallest distance to the new face\n",
    "            face_distances = face_recognition.face_distance(self.known_face_encodings, face_encoding)\n",
    "            best_match_index = np.argmin(face_distances) # argmin min değerin  indexsini dönderir\n",
    "            if matches[best_match_index]:\n",
    "                name = self.known_face_names[best_match_index]\n",
    "            face_names.append(name)\n",
    "\n",
    "        # Convert to numpy array to adjust coordinates with frame resizing quickly\n",
    "        face_locations = np.array(face_locations)\n",
    "        face_locations = face_locations / self.frame_resizing\n",
    "        return face_locations.astype(int), face_names\n"
   ]
  },
  {
   "cell_type": "markdown",
   "metadata": {},
   "source": [
    "#### os.path.basename()\n",
    "os.path.basename() fonksiyonu, bir dosya yolunun son bölümünü (dosya adını) almak için kullanılır."
   ]
  },
  {
   "cell_type": "markdown",
   "metadata": {},
   "source": [
    "#### images_path\n",
    "glob.glob() fonksiyonu tarafından belirli bir desene uyan dosya adlarını içeren bir liste dizesidir. Dolayısıyla, bu ifade, belirli bir dizinde bulunan dosya sayısını elde eder."
   ]
  },
  {
   "cell_type": "markdown",
   "metadata": {},
   "source": [
    "#### glob\n",
    "\n",
    "txt_files = glob.glob('*.txt') Şu anki dizindeki tüm .txt dosyalarını listeler                                     \n",
    " *.* deseni, tüm dosya uzantılarını içeren dosya adlarını eşleştirir."
   ]
  },
  {
   "cell_type": "markdown",
   "metadata": {},
   "source": []
  },
  {
   "cell_type": "markdown",
   "metadata": {},
   "source": [
    "#### img_encoding = face_recognition.face_encodings(rgb_img)[0]\n",
    "Bu satır, face_recognition kütüphanesinin face_encodings fonksiyonunu kullanarak bir görüntünün yüz kodlamasını (yüz özelliklerini temsil eden bir sayısal vektör) elde etmek için kullanılır.\n",
    "\n",
    "Yüz kodlaması, bir yüzün belirli özelliklerini ifade eden bir sayısal vektördür. Bu özellikler, yüzün gözleri, burunu, ağzı gibi belirli noktaları ve bu noktalardaki gölgelerin yoğunlukları gibi detaylardır. Bu vektör, yüzlerin benzersiz özelliklerini temsil eder ve yüz tanıma sistemlerinde kullanılarak farklı yüzlerin tanınmasına yardımcı olur.\n",
    "\n",
    "Örneğin, face_recognition.face_encodings(rgb_img) ifadesi, rgb_img olarak adlandırılan bir RGB görüntüsündeki yüzleri kodlamak için kullanılır. Bu ifadenin döndürdüğü değer, bir veya birden fazla yüz kodlaması içeren bir liste olacaktır. [0] indeksi, bu liste içindeki ilk yüz kodlamasını alır.\n",
    "\n",
    "Yani, img_encoding değişkenine atanan değer, rgb_img görüntüsündeki ilk yüzün kodlamasıdır. Bu kodlama, daha sonra yüzlerin tanınması için kullanılabilir veya kaydedilebilir."
   ]
  },
  {
   "cell_type": "markdown",
   "metadata": {},
   "source": []
  },
  {
   "cell_type": "markdown",
   "metadata": {},
   "source": [
    "#### small_frame = cv2.resize(frame, (0, 0), fx=self.frame_resizing, fy=self.frame_resizing)\n",
    "(0, 0) değeri görüntünün hedef boyutunu belirtmek için kullanılmaz, aslında boyutun otomatik olarak hesaplanmasını sağlar. Bu, görüntünün orijinal boyutunun korunmasını sağlar.\n",
    "\n",
    "fx ve fy parametreleri, görüntünün boyutunu manuel olarak belirlemek için kullanılır. Bu parametreler, görüntünün genişlik ve yükseklik boyutunu sırasıyla genişletmek ve daraltmak için kullanılır. Örneğin, fx=0.5 ve fy=0.5 parametreleri, orijinal görüntünün genişliğinin ve yüksekliğinin yarısı kadar olan bir boyutta yeni bir görüntü oluşturur."
   ]
  },
  {
   "cell_type": "markdown",
   "metadata": {},
   "source": [
    "#### face_locations = face_recognition.face_locations(rgb_small_frame)\n",
    "top: Dikdörtgenin sol üst köşesinin y koordinatı.                                                               \n",
    "right: Dikdörtgenin sağ üst köşesinin x koordinatı.                                                            \n",
    "bottom: Dikdörtgenin sağ alt köşesinin y koordinatı.                                                             \n",
    "left: Dikdörtgenin sol alt köşesinin x koordinatı."
   ]
  },
  {
   "cell_type": "markdown",
   "metadata": {},
   "source": [
    "#### face_encodings = face_recognition.face_encodings(rgb_small_frame, face_locations)\n",
    "\n",
    "face_recognition.face_encodings() fonksiyonu, bir görüntüdeki belirli yüzlerin kodlamalarını (yüz özelliklerini temsil eden bir sayısal vektör) elde etmek için kullanılır. Bu fonksiyon, bir RGB görüntüsü ve yüzlerin koordinatlarını alır ve bu yüzlerin kodlamalarını döndürür.\n",
    "\n",
    "Bu kod parçasında, rgb_small_frame adlı bir görüntü ve face_locations adlı bir liste verilir. face_locations listesi, görüntüdeki yüzlerin konumlarını içerir. Yani, face_locations listesindeki her bir yüzün konumu, rgb_small_frame görüntüsünde belirlenmiş olan yüzlerdir.\n",
    "\n",
    "face_recognition.face_encodings() fonksiyonu, bu yüz konumlarını kullanarak her bir yüzün kodlamasını hesaplar. Sonuç olarak, bu fonksiyon, yüzlerin kodlamalarını içeren bir liste döndürür. Her bir kodlama, yüzün belirli özelliklerini ifade eden bir sayısal vektördür.     \n",
    "                                                                              Bu kod, rgb_small_frame görüntüsündeki face_locations listesinde belirtilen yüzlerin kodlamalarını hesaplar ve face_encodings adlı bir liste olarak döndürür. Bu liste, her bir yüzün kodlamasını içerir."
   ]
  },
  {
   "cell_type": "markdown",
   "metadata": {},
   "source": [
    "#### face_locations\n",
    "face_locations, face_recognition.face_locations() fonksiyonundan dönen bir liste tipindedir. Bu liste, görüntüdeki yüzlerin konumlarını içerir. Her bir yüzün konumu, bir tuple (demet) olarak temsil edilir.\n",
    "\n",
    "Her bir tuple, yüzün dört köşesinin koordinatlarını içerir. Bu koordinatlar, genellikle (top, right, bottom, left) veya (y1, x2, y2, x1) şeklinde sıralanır. Koordinatlar, yüzün dikdörtgen sınırlayıcı kutusunun sol üst ve sağ alt köşelerini temsil eder.\n",
    "\n",
    "Örneğin, bir face_locations listesi aşağıdaki gibi olabilir:\n",
    "\n",
    "python\n",
    "Copy code\n",
    "face_locations = [(62, 275, 127, 209), (110, 385, 175, 320)]\n",
    "Bu liste, iki yüzün konumunu içerir. İlk yüzün koordinatları (62, 275, 127, 209) ve ikinci yüzün koordinatları (110, 385, 175, 320) olarak belirtilir. Her bir tuple, bir yüzün sol üst ve sağ alt köşelerinin koordinatlarını içerir.\n",
    "\n"
   ]
  },
  {
   "cell_type": "markdown",
   "metadata": {},
   "source": [
    "#### face_distances = face_recognition.face_distance(self.known_face_encodings, face_encoding)\n",
    "face_distances = [0.534, 0.723, 0.812]\n",
    "Bu liste, verilen yüz kodlamasının, bilinen yüz kodlamaları listesi içindeki üç yüz kodlaması ile olan benzerliklerini içerir. İlk değer (0.534) verilen yüz kodlamasının ilk bilinen yüz kodlaması ile olan benzerliğini, ikinci değer (0.723) verilen yüz kodlamasının ikinci bilinen yüz kodlaması ile olan benzerliğini, vb. ifade eder.\n",
    "\n",
    "Bu benzerlik değerleri, yüz tanıma sistemlerinde bir eşik değeri olarak kullanılabilir. Örneğin, belirli bir eşik değerinin altındaki benzerlik değerlerine sahip yüzler tanınmamış olarak kabul edilebilir."
   ]
  },
  {
   "cell_type": "markdown",
   "metadata": {},
   "source": []
  }
 ],
 "metadata": {
  "kernelspec": {
   "display_name": "vertiual_python11",
   "language": "python",
   "name": "python3"
  },
  "language_info": {
   "codemirror_mode": {
    "name": "ipython",
    "version": 3
   },
   "file_extension": ".py",
   "mimetype": "text/x-python",
   "name": "python",
   "nbconvert_exporter": "python",
   "pygments_lexer": "ipython3",
   "version": "3.11.8"
  }
 },
 "nbformat": 4,
 "nbformat_minor": 2
}
